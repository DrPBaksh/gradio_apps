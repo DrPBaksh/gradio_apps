{
 "cells": [
  {
   "cell_type": "markdown",
   "id": "927f9896-e1c7-4b72-baea-fe36e0e51012",
   "metadata": {
    "tags": []
   },
   "source": [
    "<img src=\"https://github.com/DrPBaksh/image_processing/blob/main/logos/logo_2.png?raw=true\" alt=\"Corndel\" width =\"301.5\" align=\"left\">\n"
   ]
  },
  {
   "cell_type": "markdown",
   "id": "dfef0403-10bd-49bc-ab72-e5832c1abba4",
   "metadata": {
    "tags": []
   },
   "source": [
    "## Text Classifier using Gradio and Hugging Face"
   ]
  },
  {
   "cell_type": "code",
   "execution_count": 1,
   "id": "e8f4c475-9bae-4614-b555-edcdac390823",
   "metadata": {
    "tags": []
   },
   "outputs": [
    {
     "name": "stderr",
     "output_type": "stream",
     "text": [
      "/home/pete/Documents/python_code/hugginFace/venv_hugginFace/lib/python3.8/site-packages/tqdm/auto.py:21: TqdmWarning: IProgress not found. Please update jupyter and ipywidgets. See https://ipywidgets.readthedocs.io/en/stable/user_install.html\n",
      "  from .autonotebook import tqdm as notebook_tqdm\n",
      "No model was supplied, defaulted to facebook/bart-large-mnli and revision c626438 (https://huggingface.co/facebook/bart-large-mnli).\n",
      "Using a pipeline without specifying a model name and revision in production is not recommended.\n",
      "/home/pete/Documents/python_code/hugginFace/venv_hugginFace/lib/python3.8/site-packages/gradio/inputs.py:27: UserWarning: Usage of gradio.inputs is deprecated, and will not be supported in the future, please import your component from gradio.components\n",
      "  warnings.warn(\n",
      "/home/pete/Documents/python_code/hugginFace/venv_hugginFace/lib/python3.8/site-packages/gradio/deprecation.py:40: UserWarning: `optional` parameter is deprecated, and it has no effect\n",
      "  warnings.warn(value)\n",
      "/home/pete/Documents/python_code/hugginFace/venv_hugginFace/lib/python3.8/site-packages/gradio/deprecation.py:40: UserWarning: `numeric` parameter is deprecated, and it has no effect\n",
      "  warnings.warn(value)\n",
      "/home/pete/Documents/python_code/hugginFace/venv_hugginFace/lib/python3.8/site-packages/gradio/outputs.py:22: UserWarning: Usage of gradio.outputs is deprecated, and will not be supported in the future, please import your components from gradio.components\n",
      "  warnings.warn(\n"
     ]
    },
    {
     "name": "stdout",
     "output_type": "stream",
     "text": [
      "Running on local URL:  http://127.0.0.1:7860\n",
      "Running on public URL: https://5d704438f4add6ddd6.gradio.live\n",
      "\n",
      "This share link expires in 72 hours. For free permanent hosting and GPU upgrades (NEW!), check out Spaces: https://huggingface.co/spaces\n"
     ]
    },
    {
     "data": {
      "text/html": [
       "<div><iframe src=\"https://5d704438f4add6ddd6.gradio.live\" width=\"100%\" height=\"500\" allow=\"autoplay; camera; microphone; clipboard-read; clipboard-write;\" frameborder=\"0\" allowfullscreen></iframe></div>"
      ],
      "text/plain": [
       "<IPython.core.display.HTML object>"
      ]
     },
     "metadata": {},
     "output_type": "display_data"
    }
   ],
   "source": [
    "import gradio as gr\n",
    "from transformers import pipeline\n",
    "\n",
    "# create a zero-shot text classification pipeline\n",
    "classifier = pipeline(\"zero-shot-classification\")\n",
    "\n",
    "# define the Gradio interface\n",
    "def classify_text(input_text, candidate_labels):\n",
    "    # make a prediction using the classifier pipeline\n",
    "    labels = classifier(input_text, candidate_labels=candidate_labels.split(\",\"), multi_label=False)\n",
    "    # return the predicted label with the highest score\n",
    "    return labels['labels'][0]\n",
    "\n",
    "inputs = [gr.inputs.Textbox(label=\"Input Text\"), gr.inputs.Textbox(label=\"Candidate Labels (separated by commas)\")]\n",
    "outputs = gr.outputs.Textbox(label=\"Text Classification Results\")\n",
    "title = \"Zero-Shot Text Classifier\"\n",
    "description = \"Enter some text and enter the categories that you want it classified into (separated by commas).\"\n",
    "examples = [[\"The Lakers won the championship last night.\", \"sports, politics, technology, business\"], \n",
    "            [\"The Prime Minister made an announcement this morning.\", \"politics, business\"]]\n",
    "\n",
    "gr.Interface(fn=classify_text, inputs=inputs, outputs=outputs, title=title, description=description, examples=examples).launch(share = True);\n"
   ]
  },
  {
   "cell_type": "code",
   "execution_count": 19,
   "id": "c2e83518-3734-4a20-9279-083246e81d83",
   "metadata": {
    "tags": []
   },
   "outputs": [],
   "source": [
    "gr.Interface(fn=classify_text, inputs=[text_input, categories], outputs=outputs, title=title, description=description, examples=examples).close()"
   ]
  },
  {
   "cell_type": "markdown",
   "id": "b3b8ef40-747e-4b02-830f-3f9a40b4b94e",
   "metadata": {},
   "source": [
    "## Text Summirizer"
   ]
  },
  {
   "cell_type": "code",
   "execution_count": 2,
   "id": "bad364bd-3ddd-4459-806f-c1b1211f92e8",
   "metadata": {
    "tags": []
   },
   "outputs": [
    {
     "name": "stderr",
     "output_type": "stream",
     "text": [
      "/home/pete/Documents/python_code/hugginFace/venv_hugginFace/lib/python3.8/site-packages/gradio/inputs.py:27: UserWarning: Usage of gradio.inputs is deprecated, and will not be supported in the future, please import your component from gradio.components\n",
      "  warnings.warn(\n",
      "/home/pete/Documents/python_code/hugginFace/venv_hugginFace/lib/python3.8/site-packages/gradio/deprecation.py:40: UserWarning: `optional` parameter is deprecated, and it has no effect\n",
      "  warnings.warn(value)\n",
      "/home/pete/Documents/python_code/hugginFace/venv_hugginFace/lib/python3.8/site-packages/gradio/deprecation.py:40: UserWarning: `numeric` parameter is deprecated, and it has no effect\n",
      "  warnings.warn(value)\n",
      "/home/pete/Documents/python_code/hugginFace/venv_hugginFace/lib/python3.8/site-packages/gradio/inputs.py:59: UserWarning: Usage of gradio.inputs is deprecated, and will not be supported in the future, please import your component from gradio.components\n",
      "  warnings.warn(\n",
      "/home/pete/Documents/python_code/hugginFace/venv_hugginFace/lib/python3.8/site-packages/gradio/outputs.py:22: UserWarning: Usage of gradio.outputs is deprecated, and will not be supported in the future, please import your components from gradio.components\n",
      "  warnings.warn(\n"
     ]
    },
    {
     "name": "stdout",
     "output_type": "stream",
     "text": [
      "Running on local URL:  http://127.0.0.1:7861\n",
      "\n",
      "To create a public link, set `share=True` in `launch()`.\n"
     ]
    },
    {
     "data": {
      "text/html": [
       "<div><iframe src=\"http://127.0.0.1:7861/\" width=\"100%\" height=\"500\" allow=\"autoplay; camera; microphone; clipboard-read; clipboard-write;\" frameborder=\"0\" allowfullscreen></iframe></div>"
      ],
      "text/plain": [
       "<IPython.core.display.HTML object>"
      ]
     },
     "metadata": {},
     "output_type": "display_data"
    }
   ],
   "source": [
    "import gradio as gr\n",
    "from gradio.inputs import Number\n",
    "from transformers import pipeline\n",
    "\n",
    "# create a summarization pipeline\n",
    "summarizer = pipeline(\"summarization\", model=\"facebook/bart-large-cnn\")\n",
    "\n",
    "# define the Gradio interface\n",
    "def summarize_text(input_text, min_length=30, max_length=10000):\n",
    "    # make a prediction using the summarization pipeline\n",
    "    summary = summarizer(input_text, min_length=int(min_length), max_length=int(max_length), do_sample=False)\n",
    "    # return the summary text\n",
    "    return summary[0]['summary_text']\n",
    "\n",
    "inputs = [gr.inputs.Textbox(label=\"Input Text\"), \n",
    "          Number(label=\"Minimum Length\", default=30),\n",
    "          Number(label=\"Maximum Length\", default=100)]\n",
    "outputs = gr.outputs.Textbox(label=\"Summary\")\n",
    "title = \"Text Summarizer\"\n",
    "description = \"Enter some text and set the minimum and maximum length of the summary.\"\n",
    "examples = [[\"The Lakers won the championship last night.\", 30, 100], \n",
    "            [\"The Prime Minister made an announcement this morning.\", 50, 150],\n",
    "            [\"The quick brown fox jumped over the lazy dog. The end.\", 40, 80], \n",
    "            [\"Python is a popular programming language used for machine learning.\", 20, 150]]\n",
    "\n",
    "gr.Interface(fn=summarize_text, inputs=inputs, outputs=outputs, title=title, description=description, examples=examples).launch();\n"
   ]
  },
  {
   "cell_type": "code",
   "execution_count": null,
   "id": "c2461095-5abe-40cc-9063-655347925874",
   "metadata": {},
   "outputs": [],
   "source": []
  }
 ],
 "metadata": {
  "kernelspec": {
   "display_name": "Python 3 (ipykernel)",
   "language": "python",
   "name": "python3"
  },
  "language_info": {
   "codemirror_mode": {
    "name": "ipython",
    "version": 3
   },
   "file_extension": ".py",
   "mimetype": "text/x-python",
   "name": "python",
   "nbconvert_exporter": "python",
   "pygments_lexer": "ipython3",
   "version": "3.8.10"
  }
 },
 "nbformat": 4,
 "nbformat_minor": 5
}
